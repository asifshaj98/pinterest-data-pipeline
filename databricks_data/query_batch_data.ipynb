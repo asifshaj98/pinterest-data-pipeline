{
 "cells": [
  {
   "cell_type": "markdown",
   "metadata": {},
   "source": [
    "The code below was run on the Databricks notebook, following on from the code found in the dataframe cleaning notebook"
   ]
  },
  {
   "cell_type": "code",
   "execution_count": null,
   "metadata": {},
   "outputs": [
    {
     "data": {
      "text/html": [
       "<style scoped>\n",
       "  .ansiout {\n",
       "    display: block;\n",
       "    unicode-bidi: embed;\n",
       "    white-space: pre-wrap;\n",
       "    word-wrap: break-word;\n",
       "    word-break: break-all;\n",
       "    font-family: \"Source Code Pro\", \"Menlo\", monospace;;\n",
       "    font-size: 13px;\n",
       "    color: #555;\n",
       "    margin-left: 4px;\n",
       "    line-height: 19px;\n",
       "  }\n",
       "</style>\n",
       "<div class=\"ansiout\"></div>"
      ]
     },
     "metadata": {},
     "output_type": "display_data"
    }
   ],
   "source": [
    "# Import necessary library for window functions\n",
    "from pyspark.sql.window import Window\n",
    "\n",
    "# Joining DataFrames df_pin and df_geo based on 'ind' column\n",
    "pin_geo = df_pin.join(df_geo, df_pin.ind == df_geo.ind)\n",
    "\n",
    "# Joining DataFrames df_pin and df_user based on 'ind' column and creating a temporary SQL view named 'category_age'\n",
    "df_pin.join(df_user, df_pin.ind == df_user.ind).createOrReplaceTempView(\"category_age\")\n",
    "\n",
    "# SQL query to create an 'age_group' column based on specified age ranges\n",
    "pin_user_age_group = spark.sql(\n",
    "    \"SELECT CASE \\\n",
    "        WHEN age BETWEEN 18 AND 24 THEN '18-24' \\\n",
    "        WHEN age BETWEEN 25 AND 35 THEN '25-35' \\\n",
    "        WHEN age BETWEEN 36 AND 50 THEN '36-50' \\\n",
    "        WHEN age > 50 THEN '50+' \\\n",
    "        END AS age_group, * FROM category_age\")\n"
   ]
  },
  {
   "cell_type": "markdown",
   "metadata": {},
   "source": [
    "## Identifying the Most Popular Category in Each Country\n"
   ]
  },
  {
   "cell_type": "code",
   "execution_count": null,
   "metadata": {},
   "outputs": [],
   "source": [
    "# create partition by country and order by category_count descending\n",
    "windowCountryByCatCount = Window.partitionBy(\"country\").orderBy(col(\"category_count\").desc())\n",
    "# find the most popular category in each country\n",
    "pin_geo.groupBy(\"country\", \"category\") \\\n",
    ".agg(count(\"category\") \\\n",
    ".alias(\"category_count\")) \\\n",
    ".withColumn(\"rank\", row_number().over(windowCountryByCatCount)) \\\n",
    ".filter(col(\"rank\") == 1) \\\n",
    ".drop(\"rank\") \\\n",
    ".show()\n",
    " # Filter to retain only the top-ranked category within each country\n",
    "# .drop(\"rank\") \\  # Drop the 'rank' column, as it was only used for filtering\n",
    "# .show()  # Display the result DataFrame containing the most popular category in each country\n"
   ]
  },
  {
   "cell_type": "markdown",
   "metadata": {},
   "source": [
    "## Determining the Most Popular Category Each Year\n"
   ]
  },
  {
   "cell_type": "code",
   "execution_count": null,
   "metadata": {},
   "outputs": [],
   "source": [
    "# create partition by year and order by category_count descending\n",
    "windowYearByCatCount = Window.partitionBy(\"post_year\").orderBy(col(\"category_count\").desc())\n",
    "# find which was the most popular category each year between 2018 and 2022\n",
    "pin_geo.withColumn(\"post_year\", year(\"timestamp\")) \\\n",
    ".filter(col(\"post_year\") >= 2018) \\\n",
    ".filter(col(\"post_year\") <= 2022) \\\n",
    ".groupBy(\"post_year\", \"category\") \\\n",
    ".agg(count(\"category\").alias(\"category_count\")) \\\n",
    ".withColumn(\"rank\", row_number().over(windowYearByCatCount)) \\\n",
    ".filter(col(\"rank\") == 1) \\\n",
    ".drop(\"rank\") \\\n",
    ".show()\n",
    "\n",
    "# Filter the DataFrame 'pin_geo' to include only records between the years 2018 and 2022\n",
    "# Group by 'post_year' and 'category', count occurrences of each category within the specified year range\n",
    "# Alias the count as 'category_count', then use window functions to rank the categories within each year"
   ]
  },
  {
   "cell_type": "markdown",
   "metadata": {},
   "source": [
    "## Finding the User with the Most Followers in Each Country\n",
    "\n",
    "Based on the prior query, Identify the Country Hosting the User with the Highest Follower Count\n"
   ]
  },
  {
   "cell_type": "code",
   "execution_count": null,
   "metadata": {},
   "outputs": [],
   "source": [
    "# create partition by country and order by follower_count descending\n",
    "windowCountryByFollowers = Window.partitionBy(\"country\").orderBy(col(\"follower_count\").desc())\n",
    "\n",
    "# find the user with the most followers in each country\n",
    "max_followers_by_country = \\\n",
    "    df_pin.join(df_geo, df_pin.ind == df_geo.ind) \\\n",
    "    .withColumn(\"rank\", row_number().over(windowCountryByFollowers)) \\\n",
    "    .filter(col(\"rank\") == 1) \\\n",
    "    .select(\"country\", \"poster_name\", \"follower_count\")\n",
    "\n",
    "# get highest number of followers from all countries\n",
    "max_followers_all_countries = max_followers_by_country.select(max(\"follower_count\")).collect()[0][0]\n",
    "\n",
    "# find the country with the user with most followers\n",
    "country_with_max_followers = \\\n",
    "    max_followers_by_country \\\n",
    "    .select(\"*\") \\\n",
    "    .where(col(\"follower_count\") == max_followers_all_countries)\n",
    "\n",
    "max_followers_by_country.show()\n",
    "country_with_max_followers.show()"
   ]
  },
  {
   "cell_type": "markdown",
   "metadata": {},
   "source": [
    "## Determine the Most Popular Category Among Different Age Groups\n"
   ]
  },
  {
   "cell_type": "code",
   "execution_count": null,
   "metadata": {},
   "outputs": [],
   "source": [
    "windowAgeGroup = Window.partitionBy(\"age_group\").orderBy(col(\"category_count\").desc())\n",
    "pin_user_age_group.groupBy(\"age_group\", \"category\") \\\n",
    ".agg(count(\"category\").alias(\"category_count\")) \\\n",
    ".withColumn(\"rank\", row_number().over(windowAgeGroup)) \\\n",
    ".filter(col(\"rank\") == 1) \\\n",
    ".drop(\"rank\") \\\n",
    ".show()\n",
    "# Create a window partitioned by 'age_group' and ordered by 'category_count' in descending order\n",
    "# Grouping the DataFrame 'pin_user_age_group' by 'age_group' and 'category'\n",
    "# Counting occurrences of each category within different age groups\n",
    "# Ranks the categories based on their count within each age group\n",
    "# Filters to retain only the top-ranked category within each age group\n",
    "# Displays the result DataFrame containing the most popular category for different age groups"
   ]
  },
  {
   "cell_type": "markdown",
   "metadata": {},
   "source": [
    "## Find the median follower count for different age groups"
   ]
  },
  {
   "cell_type": "code",
   "execution_count": null,
   "metadata": {},
   "outputs": [],
   "source": [
    "# find the median follower count for different age groups\n",
    "pin_user_age_group \\\n",
    ".select(\"user_name\", \"date_joined\", \"age_group\", \"follower_count\") \\\n",
    ".distinct() \\\n",
    ".groupBy(\"age_group\") \\\n",
    ".agg(percentile_approx(\"follower_count\", 0.5).alias(\"median_follower_count\")) \\\n",
    ".orderBy(\"age_group\") \\\n",
    ".show()\n",
    "# Display the results\n",
    "# Select specific columns for analysis: 'user_name', 'date_joined', 'age_group', 'follower_count'\n",
    "# Ensure distinct records based on the selected columns\n",
    "# Group the DataFrame by 'age_group'\n",
    "# Calculate the median follower count for different age groups\n",
    "# Order the results by 'age_group'\n",
    "# Display the calculated median follower count for different age groups"
   ]
  },
  {
   "cell_type": "markdown",
   "metadata": {},
   "source": [
    "## Find out how many users joined each year"
   ]
  },
  {
   "cell_type": "code",
   "execution_count": null,
   "metadata": {},
   "outputs": [],
   "source": [
    "# find out how many users joined each year\n",
    "df_user.withColumn(\"post_year\", year(\"date_joined\")) \\\n",
    ".drop(\"ind\") \\\n",
    ".distinct() \\\n",
    ".groupBy(\"post_year\") \\\n",
    ".agg(count(\"user_name\").alias(\"number_users_joined\")) \\\n",
    ".orderBy(\"post_year\") \\\n",
    ".show()"
   ]
  }
 ],
 "metadata": {
  "kernelspec": {
   "display_name": "apache-spark",
   "language": "python",
   "name": "python3"
  },
  "language_info": {
   "codemirror_mode": {
    "name": "ipython",
    "version": 3
   },
   "file_extension": ".py",
   "mimetype": "text/x-python",
   "name": "python",
   "nbconvert_exporter": "python",
   "pygments_lexer": "ipython3",
   "version": "3.11.4"
  },
  "orig_nbformat": 4
 },
 "nbformat": 4,
 "nbformat_minor": 2
}
